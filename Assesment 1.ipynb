{
 "cells": [
  {
   "cell_type": "code",
   "execution_count": 1,
   "id": "2a29f6e7",
   "metadata": {},
   "outputs": [],
   "source": [
    "from selenium import webdriver\n",
    "from bs4 import BeautifulSoup\n",
    "import pandas as pd\n",
    "import numpy as np\n",
    "import time\n",
    "from tqdm import tqdm"
   ]
  },
  {
   "cell_type": "code",
   "execution_count": 2,
   "id": "3e5b0e58",
   "metadata": {},
   "outputs": [],
   "source": [
    "browser = webdriver.Chrome()\n",
    "\n",
    "browser.get(\"https://novelvalves.com/product\")"
   ]
  },
  {
   "cell_type": "code",
   "execution_count": 3,
   "id": "c2d1064e",
   "metadata": {},
   "outputs": [],
   "source": [
    "soup = BeautifulSoup(browser.page_source, 'html.parser')"
   ]
  },
  {
   "cell_type": "code",
   "execution_count": 20,
   "id": "8e893dd3",
   "metadata": {},
   "outputs": [
    {
     "name": "stdout",
     "output_type": "stream",
     "text": [
      "Ball Valves\n",
      "Gate Valves\n",
      "Globe Valves\n",
      "Swing Check Valves\n",
      "Butterfly Valves\n",
      "Dual Plate Check Valves\n",
      "Double Block and Bleed Ball Valves\n",
      "Cryogenic Valves\n",
      "Bellow Seal Valves\n",
      "3 way & 4 way Ball Valves\n",
      "'Y' & 'T' Type Strainers\n",
      "Plug Valves\n",
      "Forged Valves\n",
      "Glandless Piston Valves\n",
      "Control Valves\n",
      "Diaphragm Valves\n",
      "DIN Globe Valves\n",
      "Overboard Butterfly Valves\n"
     ]
    }
   ],
   "source": [
    "data = []\n",
    "\n",
    "for sp in soup.find_all(\"div\", class_= \"col-sm-12 col-md-3 col-lg-3\"):\n",
    "    title = sp.find('div', class_= \"title\").text\n",
    "    print(title)\n",
    "    data.append(title)"
   ]
  },
  {
   "cell_type": "code",
   "execution_count": 21,
   "id": "f079cfd4",
   "metadata": {},
   "outputs": [
    {
     "data": {
      "text/plain": [
       "['Ball Valves',\n",
       " 'Gate Valves',\n",
       " 'Globe Valves',\n",
       " 'Swing Check Valves',\n",
       " 'Butterfly Valves',\n",
       " 'Dual Plate Check Valves',\n",
       " 'Double Block and Bleed Ball Valves',\n",
       " 'Cryogenic Valves',\n",
       " 'Bellow Seal Valves',\n",
       " '3 way & 4 way Ball Valves',\n",
       " \"'Y' & 'T' Type Strainers\",\n",
       " 'Plug Valves',\n",
       " 'Forged Valves',\n",
       " 'Glandless Piston Valves',\n",
       " 'Control Valves',\n",
       " 'Diaphragm Valves',\n",
       " 'DIN Globe Valves',\n",
       " 'Overboard Butterfly Valves']"
      ]
     },
     "execution_count": 21,
     "metadata": {},
     "output_type": "execute_result"
    }
   ],
   "source": [
    "data"
   ]
  },
  {
   "cell_type": "code",
   "execution_count": null,
   "id": "023b157f",
   "metadata": {},
   "outputs": [],
   "source": []
  }
 ],
 "metadata": {
  "kernelspec": {
   "display_name": "Python 3 (ipykernel)",
   "language": "python",
   "name": "python3"
  },
  "language_info": {
   "codemirror_mode": {
    "name": "ipython",
    "version": 3
   },
   "file_extension": ".py",
   "mimetype": "text/x-python",
   "name": "python",
   "nbconvert_exporter": "python",
   "pygments_lexer": "ipython3",
   "version": "3.11.5"
  }
 },
 "nbformat": 4,
 "nbformat_minor": 5
}
